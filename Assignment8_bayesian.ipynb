{
  "cells": [
    {
      "cell_type": "markdown",
      "metadata": {
        "id": "5r2msEl9py3R"
      },
      "source": [
        "Using Bayesian network, implement a Python program to calculate probability in disease diagnosis.\n",
        "\n",
        "A medical clinic is trying to determine the probability that a patient has a certain disease. The test which is used to diagnose the disease is not always accurate. The clinic knows that the probability of a false positive is 1%, and the probability of a false negative is 5%. The clinic has a patient who has tested positive for the disease.\n",
        "\n",
        "Knowing that disease occurs in a patient 25% times. They want to use Bayesian Theorem to calculate the probability that the patient actually has the disease. The Bayesian network will consist of two nodes: 'D' (for disease) and 'T' (for test result). conditional probability distributions (CPDs) for the nodes will be based on the provided information\n"
      ]
    },
    {
      "cell_type": "markdown",
      "metadata": {
        "id": "hi0nFuvoppT9"
      },
      "source": [
        "## The Code"
      ]
    },
    {
      "cell_type": "markdown",
      "metadata": {
        "id": "q1ABUPU7L6em"
      },
      "source": [
        "### Imports"
      ]
    },
    {
      "cell_type": "code",
      "execution_count": 1,
      "metadata": {
        "id": "i3TtxZ2SL6en"
      },
      "outputs": [],
      "source": [
        "from pgmpy.models import BayesianNetwork\n",
        "from pgmpy.factors.discrete import TabularCPD\n",
        "from pgmpy.inference import VariableElimination\n",
        "\n",
        "import warnings\n",
        "warnings.filterwarnings('ignore')"
      ]
    },
    {
      "cell_type": "markdown",
      "metadata": {
        "id": "EULYS1zCLF6l"
      },
      "source": [
        "### Bayesian Network Creation using BayesianNetwork from pgmpy\n",
        "### AND\n",
        "### Defining CPDs using Tabular CPDS"
      ]
    },
    {
      "cell_type": "code",
      "execution_count": 2,
      "metadata": {
        "id": "W6DsZ9qZvD-v"
      },
      "outputs": [],
      "source": [
        "def create_bayesian_network():\n",
        "    # TODO: Create a Bayesian Network\n",
        "\n",
        "    # TODO: Define conditional probability distributions (CPDs)\n",
        "    # CPD for 'D' (Disease)\n",
        "    # CPD for 'T' (Test Result)\n",
        "\n",
        "    # TODO: Add CPDs to the model\n",
        "    # model.add_cpds(cpd_disease, cpd_test)\n",
        "\n",
        "    # TODO: Check if the model is valid\n",
        "    # assert model.check_model()\n",
        "\n",
        "    # TODO: Return the created model\n",
        "    # return model\n",
        "\n",
        "\n",
        "    # Create a Bayesian Network\n",
        "    model = BayesianNetwork([('D', 'T')])\n",
        "\n",
        "    # Define conditional probability distributions (CPDs)\n",
        "    cpd_disease = TabularCPD(variable='D', variable_card=2, values=[[0.75], [0.25]])\n",
        "    cpd_test = TabularCPD(variable='T', variable_card=2, values=[[0.99, 0.05], [0.01, 0.95]], evidence=['D'], evidence_card=[2])\n",
        "\n",
        "    # Add CPDs to the model\n",
        "    model.add_cpds(cpd_disease, cpd_test)\n",
        "\n",
        "    # Check if the model is valid\n",
        "    assert model.check_model()\n",
        "\n",
        "    # Return the created model\n",
        "    return model"
      ]
    },
    {
      "cell_type": "markdown",
      "metadata": {
        "id": "zXJONO10fCBU"
      },
      "source": [
        "### Calculating Disease Bayesian Probablity"
      ]
    },
    {
      "cell_type": "code",
      "execution_count": 3,
      "metadata": {
        "id": "-BleLeI_fCBb"
      },
      "outputs": [],
      "source": [
        "def calculate_probability_of_disease(model, test_result):\n",
        "    # TODO: Create an inference object\n",
        "\n",
        "    # TODO: Given the test result, calculate the probability of having the disease\n",
        "\n",
        "    # TODO: Return the calculated probability\n",
        "    \n",
        "    # Create an inference object\n",
        "    inference = VariableElimination(model)\n",
        "\n",
        "    # Given the test result, calculate the probability of having the disease\n",
        "    query_result = inference.query(variables=['D'], evidence={'T': test_result})\n",
        "\n",
        "    # Return the calculated probability\n",
        "    return query_result.values[1]  # Probability of having the disease"
      ]
    },
    {
      "cell_type": "markdown",
      "metadata": {
        "id": "TYRZ-f3G6Tpj"
      },
      "source": [
        "### Main function to solve the problem"
      ]
    },
    {
      "cell_type": "code",
      "execution_count": 4,
      "metadata": {
        "colab": {
          "base_uri": "https://localhost:8080/"
        },
        "id": "VFUkDQUY6WiX",
        "outputId": "85d00007-fd54-4902-ebd9-1d7d187eba08"
      },
      "outputs": [
        {
          "name": "stdout",
          "output_type": "stream",
          "text": [
            "Probability of having the disease given a positive test result: 0.9694\n"
          ]
        }
      ],
      "source": [
        "if __name__ == \"__main__\":\n",
        "    bayesian_network = create_bayesian_network()\n",
        "    test_result = 1  # 1 for positive test result, 0 for negative\n",
        "\n",
        "    probability = calculate_probability_of_disease(bayesian_network, test_result)\n",
        "    print(f\"Probability of having the disease given a positive test result: {probability:.4f}\")"
      ]
    },
    {
      "cell_type": "markdown",
      "metadata": {},
      "source": [
        "$$  P(A|B) = \\frac{P(B|A) * P(A)} {P(B)}"
      ]
    }
  ],
  "metadata": {
    "colab": {
      "provenance": []
    },
    "kernelspec": {
      "display_name": "Python 3",
      "name": "python3"
    },
    "language_info": {
      "codemirror_mode": {
        "name": "ipython",
        "version": 3
      },
      "file_extension": ".py",
      "mimetype": "text/x-python",
      "name": "python",
      "nbconvert_exporter": "python",
      "pygments_lexer": "ipython3",
      "version": "3.11.5"
    }
  },
  "nbformat": 4,
  "nbformat_minor": 0
}
