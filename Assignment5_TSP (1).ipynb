{
  "cells": [
    {
      "cell_type": "markdown",
      "metadata": {
        "id": "HI4jHNCmpxfY"
      },
      "source": [
        "<b>The Problem Statement</b>:\n",
        "\n",
        "Write a Python program to solve the Travelling Salesman problem using Branch and Bound approach.\n",
        "\n",
        "Imagine a salesman who needs to visit a set of cities and return to his starting point while minimizing the total distance traveled. Let's consider a small set of cities with their pairwise distances:\n",
        "\n",
        "City A to City B: 10 miles\n",
        "\n",
        "City A to City C: 15 miles\n",
        "\n",
        "City A to City D: 20 miles\n",
        "\n",
        "City B to City C: 35 miles\n",
        "\n",
        "City B to City D: 25 miles\n",
        "\n",
        "City C to City D: 30 miles\n",
        "\n",
        "The goal of the TSP is to find the shortest possible route that visits each city exactly once and returns to the starting city.\n",
        "\n",
        "\n",
        "<i><b>Expectation from the code</b></i>\n",
        "\n",
        "-> Cost Matrix\n",
        "\n",
        "-> Reduced cost matrix\n",
        "\n",
        "-> All the intermediate matrices (reduced cost) formed during the process to find cost of a path\n",
        "\n",
        "-> And finally the cost\n",
        "\n",
        "\n"
      ]
    },
    {
      "cell_type": "markdown",
      "metadata": {},
      "source": [
        "Test"
      ]
    },
    {
      "cell_type": "code",
      "execution_count": 2,
      "metadata": {},
      "outputs": [
        {
          "name": "stdout",
          "output_type": "stream",
          "text": [
            "Best TSP Path: [0, 1, 3, 2, 0]\n",
            "Best TSP Cost: 80\n"
          ]
        }
      ],
      "source": [
        "import heapq\n",
        "\n",
        "# Define heuristic functions\n",
        "def calculate_path_cost(graph, path):\n",
        "    cost = 0\n",
        "    for i in range(len(path) - 1):\n",
        "        cost += graph[path[i]][path[i + 1]]\n",
        "    return cost\n",
        "\n",
        "def calculate_lower_bound(graph, visited_cities, current_city):\n",
        "    # Calculate the minimum outgoing edge from the current city\n",
        "    min_outgoing_edge = float('inf')\n",
        "    for city in range(len(graph)):\n",
        "        if city not in visited_cities and graph[current_city][city] < min_outgoing_edge:\n",
        "            min_outgoing_edge = graph[current_city][city]\n",
        "\n",
        "    # Calculate the maximum incoming edge from visited cities to the current city\n",
        "    max_incoming_edge = 0\n",
        "    for visited_city in visited_cities:\n",
        "        if graph[visited_city][current_city] > max_incoming_edge:\n",
        "            max_incoming_edge = graph[visited_city][current_city]\n",
        "\n",
        "    return min_outgoing_edge + max_incoming_edge if max_incoming_edge > 0 else min_outgoing_edge\n",
        "\n",
        "\n",
        "def initialize_priority_queue(num_cities):\n",
        "    initial_state = (0, set([0]), [0])  # (cost, visited_cities, path)\n",
        "    priority_queue = [initial_state]\n",
        "    return priority_queue\n",
        "\n",
        "def tsp_branch_and_bound(graph):\n",
        "    num_cities = len(graph)\n",
        "    best_path = None\n",
        "    best_cost = float('inf')\n",
        "    priority_queue = initialize_priority_queue(num_cities)\n",
        "\n",
        "    while priority_queue:\n",
        "        current_state = heapq.heappop(priority_queue)\n",
        "        current_cost, visited_cities, path = current_state\n",
        "\n",
        "        if len(visited_cities) == num_cities:\n",
        "            current_cost += graph[path[-1]][path[0]]  # Return to starting city\n",
        "            if current_cost < best_cost:\n",
        "                best_cost = current_cost\n",
        "                best_path = path[:]\n",
        "        else:\n",
        "            current_city = path[-1]\n",
        "            for city in range(num_cities):\n",
        "                if city not in visited_cities:\n",
        "                    child_path = path + [city]\n",
        "                    child_cost = current_cost + graph[current_city][city]\n",
        "                    lower_bound = calculate_lower_bound(graph, visited_cities, current_city)\n",
        "\n",
        "                    if child_cost + lower_bound < best_cost:\n",
        "                        child_state = (child_cost, visited_cities | {city}, child_path)\n",
        "                        heapq.heappush(priority_queue, child_state)\n",
        "\n",
        "    return best_path, best_cost\n",
        "\n",
        "if __name__ == \"__main__\":\n",
        "    # Example graph (distances between cities)\n",
        "    graph = [\n",
        "        [0, 10, 15, 20],\n",
        "        [10, 0, 35, 25],\n",
        "        [15, 35, 0, 30],\n",
        "        [20, 25, 30, 0]\n",
        "    ]\n",
        "\n",
        "    best_path, best_cost = tsp_branch_and_bound(graph)\n",
        "\n",
        "    # Add the starting city (city 0) at the end of the best path to complete the tour\n",
        "    best_path.append(0)\n",
        "\n",
        "    print(\"Best TSP Path:\", best_path)\n",
        "    print(\"Best TSP Cost:\", best_cost)"
      ]
    },
    {
      "cell_type": "markdown",
      "metadata": {},
      "source": [
        "Compressed code"
      ]
    },
    {
      "cell_type": "code",
      "execution_count": 4,
      "metadata": {},
      "outputs": [
        {
          "name": "stdout",
          "output_type": "stream",
          "text": [
            "Best TSP Path: [0, 1, 3, 2, 0]\n",
            "Best TSP Cost: 80\n"
          ]
        }
      ],
      "source": [
        "import heapq\n",
        "\n",
        "def calculate_path_cost(graph, path):\n",
        "    return sum(graph[path[i]][path[i + 1]] for i in range(len(path) - 1))\n",
        "\n",
        "def calculate_lower_bound(graph, visited_cities, current_city):\n",
        "    min_outgoing_edge = min(graph[current_city][city] for city in range(len(graph)) if city not in visited_cities)\n",
        "    max_incoming_edge = max(graph[visited_city][current_city] for visited_city in visited_cities)\n",
        "    return min_outgoing_edge + max_incoming_edge if max_incoming_edge > 0 else min_outgoing_edge\n",
        "\n",
        "def initialize_priority_queue(num_cities):\n",
        "    initial_state = (0, {0}, [0])\n",
        "    priority_queue = [initial_state]\n",
        "    return priority_queue\n",
        "\n",
        "def tsp_branch_and_bound(graph):\n",
        "    num_cities = len(graph)\n",
        "    best_path, best_cost = None, float('inf')\n",
        "    priority_queue = initialize_priority_queue(num_cities)\n",
        "\n",
        "    while priority_queue:\n",
        "        current_cost, visited_cities, path = heapq.heappop(priority_queue)\n",
        "\n",
        "        if len(visited_cities) == num_cities:\n",
        "            current_cost += graph[path[-1]][path[0]]\n",
        "            if current_cost < best_cost:\n",
        "                best_cost, best_path = current_cost, path[:]\n",
        "        else:\n",
        "            current_city = path[-1]\n",
        "            for city in range(num_cities):\n",
        "                if city not in visited_cities:\n",
        "                    child_path = path + [city]\n",
        "                    child_cost = current_cost + graph[current_city][city]\n",
        "                    lower_bound = calculate_lower_bound(graph, visited_cities, current_city)\n",
        "\n",
        "                    if child_cost + lower_bound < best_cost:\n",
        "                        heapq.heappush(priority_queue, (child_cost, visited_cities | {city}, child_path))\n",
        "\n",
        "    best_path.append(0)\n",
        "    return best_path , best_cost\n",
        "\n",
        "if __name__ == \"__main__\":\n",
        "    graph = [\n",
        "        [0, 10, 15, 20],\n",
        "        [10, 0, 35, 25],\n",
        "        [15, 35, 0, 30],\n",
        "        [20, 25, 30, 0]\n",
        "    ]\n",
        "\n",
        "    best_path, best_cost = tsp_branch_and_bound(graph)\n",
        "\n",
        "    print(\"Best TSP Path:\", best_path)\n",
        "    print(\"Best TSP Cost:\", best_cost)"
      ]
    }
  ],
  "metadata": {
    "colab": {
      "provenance": []
    },
    "kernelspec": {
      "display_name": "Python 3",
      "name": "python3"
    },
    "language_info": {
      "codemirror_mode": {
        "name": "ipython",
        "version": 3
      },
      "file_extension": ".py",
      "mimetype": "text/x-python",
      "name": "python",
      "nbconvert_exporter": "python",
      "pygments_lexer": "ipython3",
      "version": "3.10.9"
    }
  },
  "nbformat": 4,
  "nbformat_minor": 0
}
