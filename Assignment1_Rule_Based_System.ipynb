{
  "cells": [
    {
      "cell_type": "markdown",
      "metadata": {
        "id": "5r2msEl9py3R"
      },
      "source": [
        "<b>The Problem Statement</b>:\n",
        "\n",
        "You are tasked with creating a simple rule-based pet care assistant in Python. The goal is to develop a basic program that provides helpful reminders and suggestions for taking care of different types of pets, such as dogs, cats, and birds, based on predefined rules.\n",
        "\n",
        "<b>Some Rules to get you started</b>:\n",
        "\n",
        "*Example of a rule for dogs:* If the dog is a puppy (i.e. less than 2 years old) frequent training may be needed.\n",
        "\n",
        "*Example of a rule for cats:* If the cat's health is poor one may needed onitor their cat closely and consult a vet for any health issues."
      ]
    },
    {
      "cell_type": "markdown",
      "metadata": {
        "id": "hi0nFuvoppT9"
      },
      "source": [
        "## The Code"
      ]
    },
    {
      "cell_type": "markdown",
      "metadata": {
        "id": "WZrvsX8_ri3a"
      },
      "source": [
        "### Function to get the user's pet choice"
      ]
    },
    {
      "cell_type": "code",
      "execution_count": 1,
      "metadata": {
        "id": "eZOS63c-rij3"
      },
      "outputs": [],
      "source": [
        "from IPython.core.error import InputRejected\n",
        "# Function to get the user's pet choice\n",
        "def get_pet_choice():\n",
        "    # print(\"dog\", 'cat', 'parrot', )\n",
        "    \"\"\"\n",
        "    TODO: Implement this function to display the pet options and return the user's choice.\n",
        "    The function should prompt the user to select the type of pet (e.g., dog, cat, bird) and\n",
        "    return the corresponding number representing the pet type.\n",
        "    \"\"\"\n",
        "\n",
        "    print(\"\\n1. Dog\")\n",
        "    print(\"2. Cat\")\n",
        "    print(\"3. Parrot\")\n",
        "    pet_type = int(input(\"Enter your Pet Type(1-3): \"))\n",
        "    return pet_type"
      ]
    },
    {
      "cell_type": "markdown",
      "metadata": {
        "id": "ih-mnNqnvI6N"
      },
      "source": [
        "### Function to get pet's age and health as input from user"
      ]
    },
    {
      "cell_type": "code",
      "execution_count": 2,
      "metadata": {
        "id": "bOmAKcsmvGkM"
      },
      "outputs": [],
      "source": [
        "# Function to get the pet's age from the user\n",
        "def get_pet_age():\n",
        "    \"\"\"\n",
        "    TODO: Implement this function to get the pet's age from the user.\n",
        "    The function should prompt the user to enter the pet's age in years and\n",
        "    return the entered value as an integer.\n",
        "    \"\"\"\n",
        "    pet_age = int(input(\"\\nEnter your Pet's Age: \"))\n",
        "    return pet_age"
      ]
    },
    {
      "cell_type": "code",
      "execution_count": 3,
      "metadata": {
        "id": "31-njL3fvIEn"
      },
      "outputs": [],
      "source": [
        "# Function to get the pet's health status from the user\n",
        "def get_pet_health():\n",
        "    \"\"\"\n",
        "    TODO: Implement this function to get the pet's health status from the user.\n",
        "    The function should prompt the user to select the health status (e.g., good, fair, poor) and\n",
        "    return the corresponding number representing the health status.\n",
        "    \"\"\"\n",
        "    print(\"\\n1. Healthy\")\n",
        "    print(\"2. Average\")\n",
        "    print(\"3. Poor\")\n",
        "    pet_health = int(input(\"Enter your Pet's Health(1-3): \"))\n",
        "    return pet_health"
      ]
    },
    {
      "cell_type": "markdown",
      "metadata": {
        "id": "10mIZiAxrIWD"
      },
      "source": [
        "### Function for rules for providing pet care tips"
      ]
    },
    {
      "cell_type": "code",
      "execution_count": 4,
      "metadata": {
        "id": "EIpHv9ckpYzh"
      },
      "outputs": [],
      "source": [
        "# Function to provide pet care tips based on the user's choice, age, and health\n",
        "def provide_pet_care_tips(pet_choice, pet_age, pet_health):\n",
        "    \"\"\"\n",
        "    TODO: Implement this function to provide pet care tips based on the user's choices.\n",
        "    The function should take the pet_choice (representing the type of pet), pet_age (in years),\n",
        "    and pet_health (representing the health status) as inputs and print relevant care tips based on those.\n",
        "    \"\"\"\n",
        "    print()\n",
        "    if pet_choice == 1: # DOG\n",
        "        if pet_age < 3: # Young Puppy\n",
        "            if pet_health == 1: # Healthy\n",
        "                print(\"no problem is there with the Dog\")\n",
        "            elif pet_health == 2: # Average\n",
        "                print(\"take more care of the Dog\")\n",
        "            elif pet_health == 3: # Poor Health\n",
        "                print(\"take Dog to the vet ASAP\")\n",
        "        elif pet_age <= 5 : # Adult Dog\n",
        "            if pet_health == 1: # Healthy\n",
        "                print(\"no problem is there with the Dog\")\n",
        "            elif pet_health == 2: # Average\n",
        "                print(\"take more care of the Dog and maintain hygine\")\n",
        "            elif pet_health == 3: # Poor Health\n",
        "                print(\"take Dog to the vet ASAP\")\n",
        "        elif pet_age <= 10: # Old Dog\n",
        "            if pet_health == 1: # Healthy\n",
        "                print(\"no problem is there with the Dog\")\n",
        "            elif pet_health == 2: # Average\n",
        "                print(\"take more care of the Dog\")\n",
        "            elif pet_health == 3: # Poor Health\n",
        "                print(\"the Dog is getting old spend more time with it :)\")\n",
        "        elif pet_age > 10:\n",
        "            print(\"Please Enter some valid age for your Dog\")\n",
        "\n",
        "    elif pet_choice == 2: # CAT\n",
        "        if  pet_age < 4: # Young Kitten\n",
        "            if pet_health == 1: # Healthy\n",
        "                print(\"no problem is there with the cat\")\n",
        "            elif pet_health == 2: # Average\n",
        "                print(\"take more care of the cat\")\n",
        "            elif pet_health == 3: # Poor Health\n",
        "                print(\"take cat to the vet ASAP\")\n",
        "        elif pet_age <= 8: # Adult Cat\n",
        "            if pet_health == 1: # Healthy\n",
        "                print(\"no problem is there with the cat\")\n",
        "            elif pet_health == 2: # Average\n",
        "                print(\"take more care of the cat and maintain hygine\")\n",
        "            elif pet_health == 3: # Poor Health\n",
        "                print(\"take cat to the vet ASAP\")\n",
        "        elif pet_age <= 11: # Old Cat\n",
        "            if pet_health == 1: # Healthy\n",
        "                print(\"no problem is there with the cat\")\n",
        "            elif pet_health == 2: # Average\n",
        "                print(\"take more care of the cat\")\n",
        "            elif pet_health == 3: # Poor Health\n",
        "                print(\"the cat is getting old spend more time with it :)\")\n",
        "        elif pet_age > 11:\n",
        "            print(\"Please Enter some valid age for your Cat\")\n",
        "\n",
        "    elif pet_choice == 3: #BIRD\n",
        "        if  pet_age < 2: # Young Bird\n",
        "            if pet_health == 1: # Healthy\n",
        "                print(\"no problem is there with the bird\")\n",
        "            elif pet_health == 2: # Average\n",
        "                print(\"take more care of the bird\")\n",
        "            elif pet_health == 3: # Poor Health\n",
        "                print(\"take bird to the vet ASAP\")\n",
        "        elif pet_age <= 5 : # Adult Bird\n",
        "            if pet_health == 1: # Healthy\n",
        "                print(\"no problem is there with the bird\")\n",
        "            elif pet_health == 2: # Average\n",
        "                print(\"take more care of the bird and maintain hygine\")\n",
        "            elif pet_health == 3: # Poor Health\n",
        "                print(\"take bird to the vet ASAP\")\n",
        "        elif pet_age <= 6: # Old Bird\n",
        "            if pet_health == 1: # Healthy\n",
        "                print(\"no problem is there with the bird\")\n",
        "            elif pet_health == 2: # Average\n",
        "                print(\"take more care of the bird\")\n",
        "            elif pet_health == 3: # Poor Health\n",
        "                print(\"the bird is getting old spend more time with it :)\")\n",
        "        elif pet_age > 6:\n",
        "            print(\"Please Enter some valid age for your Bird\")\n",
        "    else:\n",
        "        print(\"something went wrong\")"
      ]
    },
    {
      "cell_type": "markdown",
      "metadata": {
        "id": "GIJtbG2UrtJM"
      },
      "source": [
        "### Main function to run the pet care assistant"
      ]
    },
    {
      "cell_type": "code",
      "execution_count": 5,
      "metadata": {
        "id": "Sfqbwb0du179"
      },
      "outputs": [],
      "source": [
        "# Main function to run the pet care assistant\n",
        "def pet_care_assistant():\n",
        "    \"\"\"\n",
        "    TODO: Implement this function as the entry point to the pet care assistant program.\n",
        "    The function should call the get_pet_choice(), get_pet_age(), and get_pet_health() functions\n",
        "    to collect the necessary information from the user. Then, it should call the provide_pet_care_tips()\n",
        "    function to provide personalized care tips based on the user's inputs.\n",
        "    \"\"\"\n",
        "    animal = get_pet_choice()\n",
        "    age = get_pet_age()\n",
        "    health = get_pet_health()\n",
        "\n",
        "    provide_pet_care_tips(animal, age, health)"
      ]
    },
    {
      "cell_type": "code",
      "execution_count": 6,
      "metadata": {
        "colab": {
          "base_uri": "https://localhost:8080/"
        },
        "id": "Bm-vnwCvrxy4",
        "outputId": "abd58d49-8815-4d26-8518-0374b83119c7"
      },
      "outputs": [
        {
          "name": "stdout",
          "output_type": "stream",
          "text": [
            "\n",
            "1. Dog\n",
            "2. Cat\n",
            "3. Parrot\n",
            "\n",
            "1. Healthy\n",
            "2. Average\n",
            "3. Poor\n",
            "\n",
            "no problem is there with the Dog\n"
          ]
        }
      ],
      "source": [
        "# Run the program\n",
        "if __name__ == \"__main__\":\n",
        "    pet_care_assistant()  # Start the pet care assistant"
      ]
    }
  ],
  "metadata": {
    "colab": {
      "provenance": []
    },
    "kernelspec": {
      "display_name": "Python 3",
      "name": "python3"
    },
    "language_info": {
      "codemirror_mode": {
        "name": "ipython",
        "version": 3
      },
      "file_extension": ".py",
      "mimetype": "text/x-python",
      "name": "python",
      "nbconvert_exporter": "python",
      "pygments_lexer": "ipython3",
      "version": "3.10.9"
    }
  },
  "nbformat": 4,
  "nbformat_minor": 0
}
