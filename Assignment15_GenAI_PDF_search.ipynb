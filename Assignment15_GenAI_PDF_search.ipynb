{
  "cells": [
    {
      "cell_type": "markdown",
      "metadata": {
        "id": "5r2msEl9py3R"
      },
      "source": [
        "USE GPU\n",
        "\n",
        "To implement simple PDF Document search using Open Source Generative AI model."
      ]
    },
    {
      "cell_type": "markdown",
      "metadata": {
        "id": "hi0nFuvoppT9"
      },
      "source": [
        "## The Code"
      ]
    },
    {
      "cell_type": "markdown",
      "metadata": {
        "id": "q1ABUPU7L6em"
      },
      "source": [
        "### Imports"
      ]
    },
    {
      "cell_type": "markdown",
      "metadata": {
        "id": "bx8iUuFyGycJ"
      },
      "source": [
        "Generate a token by creating a HuggingFace account"
      ]
    },
    {
      "cell_type": "code",
      "execution_count": 10,
      "metadata": {
        "id": "-sllhA8rkAKf"
      },
      "outputs": [],
      "source": [
        "from langchain.document_loaders import TextLoader  #for textfiles\n",
        "from langchain.text_splitter import CharacterTextSplitter #text splitter\n",
        "from langchain.embeddings import HuggingFaceEmbeddings #for using HugginFace models\n",
        "from langchain.vectorstores import FAISS\n",
        "from langchain.chains.question_answering import load_qa_chain\n",
        "from langchain import HuggingFaceHub\n",
        "from langchain.text_splitter import RecursiveCharacterTextSplitter\n",
        "from langchain.document_loaders import PyPDFLoader\n",
        "from langchain.document_loaders import UnstructuredPDFLoader  #load pdf\n",
        "from langchain.indexes import VectorstoreIndexCreator #vectorize db index with chromadb\n",
        "from langchain.chains import RetrievalQA\n",
        "from langchain.document_loaders import UnstructuredURLLoader  #load urls into docoument-loader\n",
        "import pandas as pd\n",
        "\n",
        "from warnings import filterwarnings\n",
        "filterwarnings('ignore')\n",
        "\n",
        "import os\n",
        "os.environ[\"HUGGINGFACEHUB_API_TOKEN\"] = \"xxxxxxxxxxxx\""
      ]
    },
    {
      "cell_type": "markdown",
      "metadata": {
        "id": "EULYS1zCLF6l"
      },
      "source": [
        "### Load the dataset into a DataFrame"
      ]
    },
    {
      "cell_type": "code",
      "execution_count": 11,
      "metadata": {
        "id": "W6DsZ9qZvD-v"
      },
      "outputs": [],
      "source": [
        "# Download the zip file from the kaggle website and Load the flder into colab\n",
        "def load_dataset():\n",
        "    # set variables\n",
        "    main_folder = '../input/celeba-dataset/'\n",
        "    images_folder = main_folder + 'img_align_celeba/img_align_celeba/'\n",
        "\n",
        "    EXAMPLE_PIC = images_folder + '000506.jpg'\n",
        "\n",
        "    # import the data set that include the attribute for each picture\n",
        "    df_attr = pd.read_csv(main_folder + 'list_attr_celeba.csv')\n",
        "    df_attr.set_index('image_id', inplace=True)\n",
        "    df_attr.replace(to_replace=-1, value=0, inplace=True) #replace -1 by 0\n",
        "    df_attr.shape"
      ]
    },
    {
      "cell_type": "markdown",
      "metadata": {
        "id": "zXJONO10fCBU"
      },
      "source": [
        "### Loading the PDF\n",
        "\n",
        "\n",
        "\n",
        "*   https://python.langchain.com/docs/modules/data_connection/document_loaders/pdf\n",
        "*   Example: use the PyPDFLoader from the LangChain library here to load our PDF file\n",
        "\n",
        "\n",
        "\n"
      ]
    },
    {
      "cell_type": "code",
      "execution_count": 12,
      "metadata": {},
      "outputs": [],
      "source": [
        "def load_and_split_pdf(pdf_path):\n",
        "    # Use PyPDFLoader to load the PDF file\n",
        "    pdf_loader = PyPDFLoader(pdf_path)\n",
        "    document = pdf_loader.load_and_split()\n",
        "    \n",
        "    return document"
      ]
    },
    {
      "cell_type": "markdown",
      "metadata": {
        "id": "6YTxdvHJHP8M"
      },
      "source": [
        "### Chunking the text\n",
        "\n",
        "\n",
        "\n",
        "*   https://python.langchain.com/docs/modules/data_connection/document_transformers/\n",
        "*   Example: use the RecursiveCharacterTextSplitter here to split the data which works by taking a large text and splitting it based on a specified chunk size.\n",
        "\n",
        "\n",
        "\n"
      ]
    },
    {
      "cell_type": "code",
      "execution_count": 13,
      "metadata": {
        "id": "-BleLeI_fCBb"
      },
      "outputs": [],
      "source": [
        "def chunk_text(text):\n",
        "    # Use RecursiveCharacterTextSplitter to chunk the text based on the specified size\n",
        "    text_splitter = RecursiveCharacterTextSplitter(chunk_size=512,\n",
        "                                                   chunk_overlap=100,\n",
        "                                                   separators=['\\n', '\\r\\n', '\\r', '\\f', '\\v', '\\u2028', '\\u2029'])\n",
        "    chunks = text_splitter.split_documents(text)\n",
        "    \n",
        "    return chunks"
      ]
    },
    {
      "cell_type": "markdown",
      "metadata": {
        "id": "VxGiDv8wHfPw"
      },
      "source": [
        "### Storing the Embeddings in a Vector Store:\n",
        "\n",
        "\n",
        "\n",
        "*    https://python.langchain.com/docs/modules/data_connection/vectorstores/\n",
        "\n",
        "*   Example: using FAISS. FAISS, short for Facebook AI Similarity Search, is a powerful library designed for efficient searching and clustering of dense vectors.\n",
        "\n",
        "\n"
      ]
    },
    {
      "cell_type": "code",
      "execution_count": 14,
      "metadata": {
        "id": "GkMVOWty0Iz6"
      },
      "outputs": [],
      "source": [
        "def store_embeddings(text_chunks, model_name=\"flaubert/flaubert-large-cased\", vector_dim=768):\n",
        "    # Initialize Hugging Face FlauBERT model\n",
        "    embeddings = HuggingFaceEmbeddings()\n",
        "\n",
        "    # Compute embeddings for each text chunk\n",
        "    chunk_embeddings = FAISS.from_documents(text_chunks, embeddings)\n",
        "\n",
        "    # Return the vector store\n",
        "    return chunk_embeddings"
      ]
    },
    {
      "cell_type": "markdown",
      "metadata": {
        "id": "DOYyOCjnHo-E"
      },
      "source": [
        "### Similarity Search with Open Source Model\n",
        "\n",
        "\n",
        "\n",
        "*    connect here to the hugging face hub to fetch the Flan-T5 XL model.\n",
        "*    Define a host of model settings for the model, such as temperature and max_length.\n",
        "*    The load_qa_chain function provides a simple method for feeding documents to an LLM\n",
        "\n",
        "\n",
        "\n"
      ]
    },
    {
      "cell_type": "code",
      "execution_count": 15,
      "metadata": {
        "id": "HK_Nv4eWzwh-"
      },
      "outputs": [],
      "source": [
        "def similarity_search():\n",
        "    # Connect to the Hugging Face Hub to fetch the Flan-T5 XL model\n",
        "    model_settings = {\n",
        "        \"temperature\": 0.95,\n",
        "        \"max_length\": 1000000,\n",
        "    }\n",
        "    \n",
        "    hugging_face_hub = HuggingFaceHub(repo_id=\"google/flan-t5-xxl\", model_kwargs=model_settings)\n",
        "    qa_chain = load_qa_chain(hugging_face_hub, chain_type=\"stuff\")\n",
        "        \n",
        "    return hugging_face_hub, qa_chain"
      ]
    },
    {
      "cell_type": "markdown",
      "metadata": {
        "id": "mjSOWW38H2xD"
      },
      "source": [
        "### Creating QA Chain and Querying\n",
        "\n",
        "\n",
        "\n",
        "*    Use the RetrievalQAChain to retrieve documents using a Retriever and then uses a QA chain to answer a question based on the retrieved documents\n",
        "\n",
        "\n",
        "\n"
      ]
    },
    {
      "cell_type": "code",
      "execution_count": 16,
      "metadata": {
        "id": "wH_yMCkb0o9z"
      },
      "outputs": [],
      "source": [
        "def create_qa_chain(model, vector, chain_type=\"stuff\"): \n",
        "    # Create a Retrieval-based Question Answering chain\n",
        "    retrieval_qa_chain = RetrievalQA.from_chain_type(retriever=vector.as_retriever(search_kwargs={\"k\": 3}), \n",
        "                                                     llm = model,\n",
        "                                                     chain_type=chain_type)\n",
        "    \n",
        "    return retrieval_qa_chain"
      ]
    },
    {
      "cell_type": "markdown",
      "metadata": {
        "id": "TYRZ-f3G6Tpj"
      },
      "source": [
        "### Main function to upload a PDF and search over it"
      ]
    },
    {
      "cell_type": "code",
      "execution_count": 17,
      "metadata": {
        "id": "VFUkDQUY6WiX"
      },
      "outputs": [],
      "source": [
        "def main():\n",
        "    pdf_path = input(\"Enter the path to the PDF file: \")\n",
        "\n",
        "    # Step 1: Load PDF and Split Text\n",
        "    text_from_pdf = load_and_split_pdf(pdf_path)\n",
        "\n",
        "    # Step 2: Chunk Text\n",
        "    chunks_of_text = chunk_text(text_from_pdf)\n",
        "\n",
        "    # Step 3: Store Embeddings\n",
        "    vector_store = store_embeddings(chunks_of_text)\n",
        "\n",
        "    # Step 4: Similarity Search\n",
        "    flan_t5_model, qa_chain = similarity_search()\n",
        "\n",
        "    # Step 5: Create QA Chain\n",
        "    retrieval_qa_chain = create_qa_chain(flan_t5_model, vector_store)\n",
        "\n",
        "    # Step 6: Answer Questions\n",
        "    question = input(\"Enter your question: \")\n",
        "    answer = retrieval_qa_chain.run(question)\n",
        "    print(f\"{question}\\n{answer}\")"
      ]
    },
    {
      "cell_type": "code",
      "execution_count": 18,
      "metadata": {},
      "outputs": [
        {
          "name": "stdout",
          "output_type": "stream",
          "text": [
            "what is the title inside the pdf ?\n",
            "The Transformative Power of Yoga: A Holistic Journey to Mind -Body Wellness\n"
          ]
        }
      ],
      "source": [
        "if __name__ == \"__main__\":\n",
        "    main()"
      ]
    }
  ],
  "metadata": {
    "accelerator": "GPU",
    "colab": {
      "gpuType": "T4",
      "provenance": []
    },
    "kernelspec": {
      "display_name": "Python 3",
      "name": "python3"
    },
    "language_info": {
      "codemirror_mode": {
        "name": "ipython",
        "version": 3
      },
      "file_extension": ".py",
      "mimetype": "text/x-python",
      "name": "python",
      "nbconvert_exporter": "python",
      "pygments_lexer": "ipython3",
      "version": "3.11.5"
    }
  },
  "nbformat": 4,
  "nbformat_minor": 0
}
