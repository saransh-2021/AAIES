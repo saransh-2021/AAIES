{
  "cells": [
    {
      "cell_type": "markdown",
      "metadata": {
        "id": "5r2msEl9py3R"
      },
      "source": [
        "<b>The Problem Statement</b>:\n",
        "\n",
        "Form triples based on the following paragraph:\n",
        "\n",
        "\"Alice is enrolled in Computer Science 101. Bob is enrolled in Physics 201. Charlie is enrolled in Mathematics 301. Computer Science 101 is taught by Professor Smith. Physics 201 is taught by Professor Johnson. Mathematics 301 is taught by Professor Brown.\"\n",
        "\n",
        "Use the above to paragraph extract triples and build a complete graph representing the relationships between students, courses, and instructors in a university setting.\n",
        "\n",
        "\n",
        "\n",
        "\n",
        "\n"
      ]
    },
    {
      "cell_type": "markdown",
      "metadata": {
        "id": "hi0nFuvoppT9"
      },
      "source": [
        "## The Code"
      ]
    },
    {
      "cell_type": "markdown",
      "metadata": {
        "id": "q1ABUPU7L6em"
      },
      "source": [
        "### Imports"
      ]
    },
    {
      "cell_type": "code",
      "execution_count": null,
      "metadata": {
        "colab": {
          "base_uri": "https://localhost:8080/"
        },
        "id": "Z9ue7LAviGeu",
        "outputId": "1601980c-a752-40f2-a897-b8661a83ca0f"
      },
      "outputs": [],
      "source": [
        "!pip install pyvis"
      ]
    },
    {
      "cell_type": "code",
      "execution_count": 2,
      "metadata": {
        "id": "i3TtxZ2SL6en"
      },
      "outputs": [],
      "source": [
        "### NLTK libraries for triples extraction\n",
        "from nltk.tokenize import word_tokenize, sent_tokenize\n",
        "from nltk import pos_tag\n",
        "\n",
        "### To plot a networkx graph in pyvis\n",
        "import networkx as nx\n",
        "from pyvis.network import Network\n",
        "from IPython.display import HTML\n",
        "from IPython.display import display,IFrame\n",
        "\n",
        "from pprint import pprint  "
      ]
    },
    {
      "cell_type": "code",
      "execution_count": 3,
      "metadata": {
        "colab": {
          "base_uri": "https://localhost:8080/"
        },
        "id": "UVmaIJlAel-x",
        "outputId": "db0d026f-4ea7-47b2-91f6-d84a06b4ae1b"
      },
      "outputs": [
        {
          "name": "stderr",
          "output_type": "stream",
          "text": [
            "[nltk_data] Downloading package punkt to\n",
            "[nltk_data]     C:\\Users\\saran\\AppData\\Roaming\\nltk_data...\n",
            "[nltk_data]   Package punkt is already up-to-date!\n",
            "[nltk_data] Downloading package averaged_perceptron_tagger to\n",
            "[nltk_data]     C:\\Users\\saran\\AppData\\Roaming\\nltk_data...\n",
            "[nltk_data]   Package averaged_perceptron_tagger is already up-to-\n",
            "[nltk_data]       date!\n"
          ]
        },
        {
          "data": {
            "text/plain": [
              "True"
            ]
          },
          "execution_count": 3,
          "metadata": {},
          "output_type": "execute_result"
        }
      ],
      "source": [
        "import nltk\n",
        "nltk.download('punkt')\n",
        "nltk.download('averaged_perceptron_tagger')"
      ]
    },
    {
      "cell_type": "markdown",
      "metadata": {
        "id": "hnp5US3YLdEb"
      },
      "source": [
        "### Definition of the Triples"
      ]
    },
    {
      "cell_type": "code",
      "execution_count": 4,
      "metadata": {
        "id": "2XryJbWuLdEc"
      },
      "outputs": [],
      "source": [
        "# Manually define the triples from the paragraph in the subject predicate and object format as a list of tuples\n",
        "triples = [\n",
        "    ('Alice', 'enrolled_in', 'CS 101'),\n",
        "    ('Bob', 'enrolled_in', 'Physics 201'),\n",
        "    ('Charlie', 'enrolled_in', 'Mathematics 301'),\n",
        "    ('CS 101', 'taught_by', 'Professor Smith'),\n",
        "    ('Physics 201', 'taught_by', 'Professor Johnson'),\n",
        "    ('Mathematics 301', 'taught_by', 'Professor Brown')\n",
        "]"
      ]
    },
    {
      "cell_type": "markdown",
      "metadata": {
        "id": "EULYS1zCLF6l"
      },
      "source": [
        "### Graph Building using Networkx"
      ]
    },
    {
      "cell_type": "code",
      "execution_count": 5,
      "metadata": {
        "id": "dnAv1jaZLF6l"
      },
      "outputs": [],
      "source": [
        "# Function to build a NetworkX graph from extracted triples\n",
        "def build_networkx_graph(triples):\n",
        "    \"\"\"\n",
        "    Builds a NetworkX graph from a list of subject-predicate-object triples.\n",
        "\n",
        "    Args:\n",
        "        triples (list): A list of extracted triples, each represented as a tuple (subject, predicate, object).\n",
        "\n",
        "    Returns:\n",
        "        networkx.Graph: A NetworkX graph representing relationships between students, courses, and instructors.\n",
        "    \"\"\"\n",
        "    # TO-DO: Implement the code to build a NetworkX graph from the triples\n",
        "    # Initialize an empty NetworkX graph\n",
        "\n",
        "    # Iterate through the triples\n",
        "\n",
        "    # Add nodes with node types (student, course, instructor)\n",
        "\n",
        "    # Add edges with relationship types (enrolled in, taught by)\n",
        "\n",
        "    # Return the NetworkX graph\n",
        "    G = nx.Graph()\n",
        "\n",
        "    # Iterate through triples and add nodes and edges to the graph\n",
        "    for triple in triples:\n",
        "        print(triple)\n",
        "        subject, action, objects = triple\n",
        "        G.add_node(subject, type=\"student\")\n",
        "        G.add_node(objects, type=\"course\" if \"101\" in objects or \"201\" in objects or \"301\" in objects else \"instructor\")\n",
        "        # G.add_edge(subject, objects, relation=action)\n",
        "\n",
        "        # Set edge color based on the type of relationship\n",
        "        if action == \"enrolled in\":\n",
        "            edge_color = \"blue\"\n",
        "        elif action == \"taught by\":\n",
        "            edge_color = \"red\"\n",
        "        else:\n",
        "            edge_color = \"green\"\n",
        "\n",
        "        G.add_edge(subject, objects, label=action, relation=action, color=edge_color)\n",
        "\n",
        "    return G"
      ]
    },
    {
      "cell_type": "markdown",
      "metadata": {
        "id": "zXJONO10fCBU"
      },
      "source": [
        "### Graph Visualize using Matplotlib"
      ]
    },
    {
      "cell_type": "code",
      "execution_count": 6,
      "metadata": {
        "id": "-BleLeI_fCBb"
      },
      "outputs": [],
      "source": [
        "# Function to save the graph as \"university_relationship_graph.html\" using PyVis\n",
        "def save_graph_pyvis(triples):\n",
        "    \"\"\"\n",
        "    Visualizes a NetworkX graph using PyVis and saves it as an HTML file.\n",
        "\n",
        "    Args:\n",
        "        graph (networkx.Graph): The NetworkX graph to be visualized.\n",
        "\n",
        "    Returns:\n",
        "        None\n",
        "    \"\"\"\n",
        "    # TO-DO: Implement the code to visualize the graph using PyVis\n",
        "    # Create an empty PyVis Network object\n",
        "\n",
        "    # Add nodes and edges to the PyVis graph\n",
        "\n",
        "    # Save the graph as an HTML file\n",
        "    # Create a NetworkX graph\n",
        "\n",
        "    G = build_networkx_graph(triples)\n",
        "    # Visualize the graph using PyVis\n",
        "    nt = Network(height=\"750px\", width=\"100%\", bgcolor=\"#222222\", font_color=\"white\", notebook=True)\n",
        "    nt.from_nx(G)\n",
        "\n",
        "    # Set node and edge attributes for visualization\n",
        "    nt.set_edge_smooth('dynamic')\n",
        "    nt.show_buttons(filter_=['physics'])\n",
        "    nt.force_atlas_2based()\n",
        "    nt.show(\"university_relationship_graph.html\")"
      ]
    },
    {
      "cell_type": "markdown",
      "metadata": {
        "id": "TYRZ-f3G6Tpj"
      },
      "source": [
        "### Main function to solve the problem"
      ]
    },
    {
      "cell_type": "code",
      "execution_count": 7,
      "metadata": {},
      "outputs": [],
      "source": [
        "def give_triples(paragraph):\n",
        "    # Tokenize the paragraph into sentences\n",
        "    sentences = sent_tokenize(paragraph)\n",
        "    sentences = [sentence.replace(\"is\",\"\").strip() for sentence in sentences if \"is\" in sentence]\n",
        "\n",
        "    triples = []\n",
        "\n",
        "    # Iterate through sentences\n",
        "    for sentence in sentences:\n",
        "        # Tokenize words in the sentence\n",
        "        if \"enrolled in\" in sentence:\n",
        "            words = sentence[:-1].partition(\"enrolled in\")\n",
        "        else:\n",
        "            words = sentence[:-1].partition(\"taught by\")\n",
        "        words = [word.strip() for word in words]\n",
        "        \n",
        "        # Extract triples based on the structure of the sentence        \n",
        "        subject = words[0]\n",
        "        action = words[1]\n",
        "        objects = words[2]\n",
        "        triples.append((subject, action, objects))\n",
        "        \n",
        "    return triples"
      ]
    },
    {
      "cell_type": "code",
      "execution_count": 8,
      "metadata": {
        "id": "VFUkDQUY6WiX"
      },
      "outputs": [
        {
          "name": "stdout",
          "output_type": "stream",
          "text": [
            "('Alice', 'enrolled in', 'Computer Science 101')\n",
            "('Bob', 'enrolled in', 'Physics 201')\n",
            "('Charlie', 'enrolled in', 'Mathematics 301')\n",
            "('Computer Science 101', 'taught by', 'Professor Smith')\n",
            "('Physics 201', 'taught by', 'Professor Johnson')\n",
            "('Mathematics 301', 'taught by', 'Professor Brown')\n",
            "Warning: When  cdn_resources is 'local' jupyter notebook has issues displaying graphics on chrome/safari. Use cdn_resources='in_line' or cdn_resources='remote' if you have issues viewing graphics in a notebook.\n",
            "university_relationship_graph.html\n"
          ]
        }
      ],
      "source": [
        "# Given paragraph\n",
        "paragraph = \"Alice is enrolled in Computer Science 101. Bob is enrolled in Physics 201. Charlie is enrolled in Mathematics 301. Computer Science 101 is taught by Professor Smith. Physics 201 is taught by Professor Johnson. Mathematics 301 is taught by Professor Brown.\"\n",
        "\n",
        "triples = give_triples(paragraph)\n",
        "\n",
        "# Build a graph using the manually defined triples\n",
        "graph = save_graph_pyvis(triples)"
      ]
    }
  ],
  "metadata": {
    "colab": {
      "provenance": []
    },
    "kernelspec": {
      "display_name": "Python 3",
      "name": "python3"
    },
    "language_info": {
      "codemirror_mode": {
        "name": "ipython",
        "version": 3
      },
      "file_extension": ".py",
      "mimetype": "text/x-python",
      "name": "python",
      "nbconvert_exporter": "python",
      "pygments_lexer": "ipython3",
      "version": "3.11.5"
    }
  },
  "nbformat": 4,
  "nbformat_minor": 0
}
