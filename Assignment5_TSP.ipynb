{
  "nbformat": 4,
  "nbformat_minor": 0,
  "metadata": {
    "colab": {
      "provenance": []
    },
    "kernelspec": {
      "name": "python3",
      "display_name": "Python 3"
    },
    "language_info": {
      "name": "python"
    }
  },
  "cells": [
    {
      "cell_type": "markdown",
      "source": [],
      "metadata": {
        "id": "JA71GQYMdiCw"
      }
    },
    {
      "cell_type": "markdown",
      "source": [
        "<b>The Problem Statement</b>:\n",
        "\n",
        "Write a Python program to solve the Travelling Salesman problem using Branch and Bound approach.\n",
        "\n",
        "Imagine a salesman who needs to visit a set of cities and return to his starting point while minimizing the total distance traveled. Let's consider a small set of cities with their pairwise distances:\n",
        "\n",
        "City A to City B: 10 miles\n",
        "\n",
        "City A to City C: 15 miles\n",
        "\n",
        "City A to City D: 20 miles\n",
        "\n",
        "City B to City C: 35 miles\n",
        "\n",
        "City B to City D: 25 miles\n",
        "\n",
        "City C to City D: 30 miles\n",
        "\n",
        "The goal of the TSP is to find the shortest possible route that visits each city exactly once and returns to the starting city.\n",
        "\n",
        "\n",
        "\n",
        "\n",
        "\n"
      ],
      "metadata": {
        "id": "5r2msEl9py3R"
      }
    },
    {
      "cell_type": "markdown",
      "source": [
        "## The Code"
      ],
      "metadata": {
        "id": "hi0nFuvoppT9"
      }
    },
    {
      "cell_type": "markdown",
      "source": [
        "### Imports"
      ],
      "metadata": {
        "id": "q1ABUPU7L6em"
      }
    },
    {
      "cell_type": "code",
      "source": [
        "import heapq"
      ],
      "metadata": {
        "id": "i3TtxZ2SL6en"
      },
      "execution_count": null,
      "outputs": []
    },
    {
      "cell_type": "markdown",
      "source": [
        "### Definition of the Heuristic Function"
      ],
      "metadata": {
        "id": "hnp5US3YLdEb"
      }
    },
    {
      "cell_type": "code",
      "source": [
        "# Define heuristic functions\n",
        "def calculate_path_cost(graph, path):\n",
        "    # TODO: Calculate the total cost of the given path in the graph.\n",
        "    pass"
      ],
      "metadata": {
        "id": "2XryJbWuLdEc"
      },
      "execution_count": null,
      "outputs": []
    },
    {
      "cell_type": "markdown",
      "source": [
        "### Lower Bound Calculation"
      ],
      "metadata": {
        "id": "EULYS1zCLF6l"
      }
    },
    {
      "cell_type": "code",
      "source": [
        "def calculate_lower_bound(graph, visited_cities, current_city):\n",
        "    # TODO: Calculate the lower bound for the current state using the minimum\n",
        "    # outgoing edge and the minimum incoming edge.\n",
        "    pass"
      ],
      "metadata": {
        "id": "dnAv1jaZLF6l"
      },
      "execution_count": null,
      "outputs": []
    },
    {
      "cell_type": "markdown",
      "source": [
        "### Priority Queue Creation"
      ],
      "metadata": {
        "id": "Lf4397PeUJaT"
      }
    },
    {
      "cell_type": "code",
      "source": [
        "def initialize_priority_queue(num_cities):\n",
        "    # TODO: Create the initial state (starting city, visited cities set, and path)\n",
        "    # and initialize the priority queue with it.\n",
        "    pass"
      ],
      "metadata": {
        "id": "qi079WGQUJRU"
      },
      "execution_count": null,
      "outputs": []
    },
    {
      "cell_type": "markdown",
      "source": [
        "### Define the Branch and Bound algorithm"
      ],
      "metadata": {
        "id": "WZrvsX8_ri3a"
      }
    },
    {
      "cell_type": "code",
      "source": [
        "def tsp_branch_and_bound(graph):\n",
        "    # Initialize the priority queue with the initial state\n",
        "\n",
        "    # Initialize the best solution\n",
        "        # TODO: If all cities are visited, check if this is a better solution\n",
        "        # and update best_path and best_cost if needed.\n",
        "\n",
        "        # TODO: Generate child states (unvisited cities) and add them to the\n",
        "        # priority_queue after calculating their lower bounds.\n",
        "\n",
        "    return best_path, best_cost"
      ],
      "metadata": {
        "id": "Lk7ipyj16Jx8"
      },
      "execution_count": null,
      "outputs": []
    },
    {
      "cell_type": "markdown",
      "source": [
        "### Mai function to solve the problem"
      ],
      "metadata": {
        "id": "TYRZ-f3G6Tpj"
      }
    },
    {
      "cell_type": "code",
      "source": [
        "# Example usage\n",
        "if __name__ == \"__main__\":\n",
        "    # Example graph (distances between cities)\n",
        "    graph = [\n",
        "        [0, 10, 15, 20],\n",
        "        [10, 0, 35, 25],\n",
        "        [15, 35, 0, 30],\n",
        "        [20, 25, 30, 0]\n",
        "    ]\n",
        "\n",
        "    best_path, best_cost = tsp_branch_and_bound(graph)\n",
        "    print(\"Best TSP Path:\", best_path)\n",
        "    print(\"Best TSP Cost:\", best_cost)"
      ],
      "metadata": {
        "id": "VFUkDQUY6WiX"
      },
      "execution_count": null,
      "outputs": []
    },
    {
      "cell_type": "code",
      "source": [],
      "metadata": {
        "id": "yEgM3J4uUoDy"
      },
      "execution_count": null,
      "outputs": []
    }
  ]
}